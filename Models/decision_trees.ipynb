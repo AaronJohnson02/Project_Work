{
 "cells": [
  {
   "cell_type": "code",
   "execution_count": null,
   "id": "a24552e0",
   "metadata": {},
   "outputs": [],
   "source": [
    "import numpy as np\n",
    "import pandas as pd\n",
    "from keras.preprocessing import text\n",
    "from sklearn.tree import DecisionTreeClassifier\n",
    "from sklearn import metrics\n",
    "from sklearn.tree import plot_tree\n",
    "import matplotlib.pyplot as plt\n",
    "%matplotlib inline"
   ]
  },
  {
   "cell_type": "code",
   "execution_count": null,
   "id": "cf73aca4",
   "metadata": {},
   "outputs": [],
   "source": [
    "df = pd.read_csv(r'feature_extracted_data/train.csv')\n",
    "df1 = pd.read_csv(r'feature_extracted_data/test.csv')"
   ]
  },
  {
   "cell_type": "code",
   "execution_count": null,
   "id": "a544167a",
   "metadata": {},
   "outputs": [],
   "source": [
    "df"
   ]
  },
  {
   "cell_type": "code",
   "execution_count": null,
   "id": "fae3616a",
   "metadata": {},
   "outputs": [],
   "source": [
    "tokens = text.Tokenizer()\n",
    "tokens1 = text.Tokenizer()\n",
    "tokens.fit_on_texts(df['URL'])\n",
    "tokens1.fit_on_texts(df['Domain'])\n",
    "\n",
    "df['URL'] = tokens.texts_to_matrix(df['URL'])\n",
    "df['Domain'] = tokens.texts_to_matrix(df['Domain'])\n",
    "df1['URL'] = tokens.texts_to_matrix(df1['URL'])\n",
    "df1['Domain'] = tokens.texts_to_matrix(df1['Domain'])"
   ]
  },
  {
   "cell_type": "code",
   "execution_count": null,
   "id": "3d047cd7",
   "metadata": {},
   "outputs": [],
   "source": [
    "x_train = df.iloc[:,0:18]\n",
    "y_train = df.iloc[:,18]\n",
    "x_test = df1.iloc[:,0:18]\n",
    "y_test = df1.iloc[:,18]"
   ]
  },
  {
   "cell_type": "code",
   "execution_count": null,
   "id": "27cdcac9",
   "metadata": {},
   "outputs": [],
   "source": [
    "clf = DecisionTreeClassifier(max_depth=2, random_state=2)\n",
    "clf.fit(x_train, y_train)"
   ]
  },
  {
   "cell_type": "code",
   "execution_count": null,
   "id": "bab7d7ce",
   "metadata": {},
   "outputs": [],
   "source": [
    "plot_tree(clf, filled=True)"
   ]
  },
  {
   "cell_type": "code",
   "execution_count": null,
   "id": "275f6190",
   "metadata": {},
   "outputs": [],
   "source": [
    "y_pred = clf.predict(x_test)"
   ]
  },
  {
   "cell_type": "code",
   "execution_count": null,
   "id": "9e055ad1",
   "metadata": {},
   "outputs": [],
   "source": [
    "metrics.accuracy_score(y_test, y_pred)*100"
   ]
  }
 ],
 "metadata": {
  "kernelspec": {
   "display_name": "Python 3 (ipykernel)",
   "language": "python",
   "name": "python3"
  },
  "language_info": {
   "codemirror_mode": {
    "name": "ipython",
    "version": 3
   },
   "file_extension": ".py",
   "mimetype": "text/x-python",
   "name": "python",
   "nbconvert_exporter": "python",
   "pygments_lexer": "ipython3",
   "version": "3.10.6"
  }
 },
 "nbformat": 4,
 "nbformat_minor": 5
}
