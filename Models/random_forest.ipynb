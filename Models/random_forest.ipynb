{
 "cells": [
  {
   "cell_type": "code",
   "execution_count": 1,
   "id": "74c8da3b",
   "metadata": {},
   "outputs": [],
   "source": [
    "import numpy as np\n",
    "import pandas as pd\n",
    "from keras.preprocessing import text\n",
    "from sklearn.ensemble import RandomForestClassifier\n",
    "from sklearn import metrics\n",
    "import seaborn as sns\n",
    "from sklearn.metrics import precision_score, recall_score\n",
    "import matplotlib.pyplot as plt\n",
    "%matplotlib inline"
   ]
  },
  {
   "cell_type": "code",
   "execution_count": 2,
   "id": "2a9adabb",
   "metadata": {},
   "outputs": [],
   "source": [
    "df = pd.read_csv(r'feature_extracted_data/train.csv')\n",
    "df1 = pd.read_csv(r'feature_extracted_data/test.csv')"
   ]
  },
  {
   "cell_type": "code",
   "execution_count": 3,
   "id": "fb44a4f0",
   "metadata": {
    "scrolled": true
   },
   "outputs": [
    {
     "data": {
      "text/html": [
       "<div>\n",
       "<style scoped>\n",
       "    .dataframe tbody tr th:only-of-type {\n",
       "        vertical-align: middle;\n",
       "    }\n",
       "\n",
       "    .dataframe tbody tr th {\n",
       "        vertical-align: top;\n",
       "    }\n",
       "\n",
       "    .dataframe thead th {\n",
       "        text-align: right;\n",
       "    }\n",
       "</style>\n",
       "<table border=\"1\" class=\"dataframe\">\n",
       "  <thead>\n",
       "    <tr style=\"text-align: right;\">\n",
       "      <th></th>\n",
       "      <th>URL</th>\n",
       "      <th>Domain</th>\n",
       "      <th>Have_IP</th>\n",
       "      <th>Have_At</th>\n",
       "      <th>URL_Length</th>\n",
       "      <th>URL_Depth</th>\n",
       "      <th>Non-standard_Doubleslash</th>\n",
       "      <th>https_Domain</th>\n",
       "      <th>Shortened_URL</th>\n",
       "      <th>Hyphen_Count</th>\n",
       "      <th>DNS_Record</th>\n",
       "      <th>Comb_5y_interest</th>\n",
       "      <th>Domain_Age</th>\n",
       "      <th>Domain_Active</th>\n",
       "      <th>iFrame</th>\n",
       "      <th>Mouse_Over</th>\n",
       "      <th>Right_Click</th>\n",
       "      <th>Web_Forwards</th>\n",
       "      <th>Label</th>\n",
       "    </tr>\n",
       "  </thead>\n",
       "  <tbody>\n",
       "    <tr>\n",
       "      <th>0</th>\n",
       "      <td>http://superuser.com/questions/694540/windows-...</td>\n",
       "      <td>superuser.com</td>\n",
       "      <td>0</td>\n",
       "      <td>0</td>\n",
       "      <td>97</td>\n",
       "      <td>3</td>\n",
       "      <td>0</td>\n",
       "      <td>0</td>\n",
       "      <td>0</td>\n",
       "      <td>0</td>\n",
       "      <td>1</td>\n",
       "      <td>2041</td>\n",
       "      <td>9940</td>\n",
       "      <td>1</td>\n",
       "      <td>0</td>\n",
       "      <td>0</td>\n",
       "      <td>0</td>\n",
       "      <td>1</td>\n",
       "      <td>0</td>\n",
       "    </tr>\n",
       "    <tr>\n",
       "      <th>1</th>\n",
       "      <td>http://bdnews24.com/bangladesh/2015/05/14/bdne...</td>\n",
       "      <td>bdnews24.com</td>\n",
       "      <td>0</td>\n",
       "      <td>0</td>\n",
       "      <td>113</td>\n",
       "      <td>5</td>\n",
       "      <td>0</td>\n",
       "      <td>0</td>\n",
       "      <td>0</td>\n",
       "      <td>0</td>\n",
       "      <td>1</td>\n",
       "      <td>11617</td>\n",
       "      <td>6717</td>\n",
       "      <td>1</td>\n",
       "      <td>1</td>\n",
       "      <td>0</td>\n",
       "      <td>0</td>\n",
       "      <td>1</td>\n",
       "      <td>0</td>\n",
       "    </tr>\n",
       "    <tr>\n",
       "      <th>2</th>\n",
       "      <td>https://codepen.io/anon/embed/QbNqgv?height=30...</td>\n",
       "      <td>codepen.io</td>\n",
       "      <td>0</td>\n",
       "      <td>0</td>\n",
       "      <td>112</td>\n",
       "      <td>3</td>\n",
       "      <td>0</td>\n",
       "      <td>1</td>\n",
       "      <td>0</td>\n",
       "      <td>0</td>\n",
       "      <td>1</td>\n",
       "      <td>9155</td>\n",
       "      <td>3979</td>\n",
       "      <td>1</td>\n",
       "      <td>0</td>\n",
       "      <td>0</td>\n",
       "      <td>0</td>\n",
       "      <td>0</td>\n",
       "      <td>0</td>\n",
       "    </tr>\n",
       "    <tr>\n",
       "      <th>3</th>\n",
       "      <td>http://kakaku.com/pc/note-pc-battery/ranking_0...</td>\n",
       "      <td>kakaku.com</td>\n",
       "      <td>0</td>\n",
       "      <td>0</td>\n",
       "      <td>84</td>\n",
       "      <td>6</td>\n",
       "      <td>0</td>\n",
       "      <td>0</td>\n",
       "      <td>0</td>\n",
       "      <td>0</td>\n",
       "      <td>1</td>\n",
       "      <td>8778</td>\n",
       "      <td>8960</td>\n",
       "      <td>1</td>\n",
       "      <td>1</td>\n",
       "      <td>0</td>\n",
       "      <td>0</td>\n",
       "      <td>2</td>\n",
       "      <td>0</td>\n",
       "    </tr>\n",
       "    <tr>\n",
       "      <th>4</th>\n",
       "      <td>http://kienthuc.net.vn/hoi-dap-ve-tuyen-sinh/c...</td>\n",
       "      <td>kienthuc.net.vn</td>\n",
       "      <td>0</td>\n",
       "      <td>0</td>\n",
       "      <td>111</td>\n",
       "      <td>2</td>\n",
       "      <td>0</td>\n",
       "      <td>0</td>\n",
       "      <td>0</td>\n",
       "      <td>0</td>\n",
       "      <td>1</td>\n",
       "      <td>3218</td>\n",
       "      <td>0</td>\n",
       "      <td>2</td>\n",
       "      <td>1</td>\n",
       "      <td>0</td>\n",
       "      <td>1</td>\n",
       "      <td>1</td>\n",
       "      <td>0</td>\n",
       "    </tr>\n",
       "    <tr>\n",
       "      <th>...</th>\n",
       "      <td>...</td>\n",
       "      <td>...</td>\n",
       "      <td>...</td>\n",
       "      <td>...</td>\n",
       "      <td>...</td>\n",
       "      <td>...</td>\n",
       "      <td>...</td>\n",
       "      <td>...</td>\n",
       "      <td>...</td>\n",
       "      <td>...</td>\n",
       "      <td>...</td>\n",
       "      <td>...</td>\n",
       "      <td>...</td>\n",
       "      <td>...</td>\n",
       "      <td>...</td>\n",
       "      <td>...</td>\n",
       "      <td>...</td>\n",
       "      <td>...</td>\n",
       "      <td>...</td>\n",
       "    </tr>\n",
       "    <tr>\n",
       "      <th>9995</th>\n",
       "      <td>https://my-metamessk.com/imports/</td>\n",
       "      <td>my-metamessk.com</td>\n",
       "      <td>0</td>\n",
       "      <td>0</td>\n",
       "      <td>33</td>\n",
       "      <td>1</td>\n",
       "      <td>0</td>\n",
       "      <td>1</td>\n",
       "      <td>0</td>\n",
       "      <td>1</td>\n",
       "      <td>1</td>\n",
       "      <td>0</td>\n",
       "      <td>14</td>\n",
       "      <td>1</td>\n",
       "      <td>2</td>\n",
       "      <td>2</td>\n",
       "      <td>2</td>\n",
       "      <td>-1</td>\n",
       "      <td>1</td>\n",
       "    </tr>\n",
       "    <tr>\n",
       "      <th>9996</th>\n",
       "      <td>https://dwvjqx.webwave.dev/?inf_contact_key=c3...</td>\n",
       "      <td>dwvjqx.webwave.dev</td>\n",
       "      <td>0</td>\n",
       "      <td>0</td>\n",
       "      <td>76</td>\n",
       "      <td>0</td>\n",
       "      <td>0</td>\n",
       "      <td>1</td>\n",
       "      <td>0</td>\n",
       "      <td>0</td>\n",
       "      <td>1</td>\n",
       "      <td>0</td>\n",
       "      <td>1427</td>\n",
       "      <td>1</td>\n",
       "      <td>0</td>\n",
       "      <td>0</td>\n",
       "      <td>0</td>\n",
       "      <td>0</td>\n",
       "      <td>1</td>\n",
       "    </tr>\n",
       "    <tr>\n",
       "      <th>9997</th>\n",
       "      <td>https://verify-i-cloud.mipaginaweb.us/expire/</td>\n",
       "      <td>verify-i-cloud.mipaginaweb.us</td>\n",
       "      <td>0</td>\n",
       "      <td>0</td>\n",
       "      <td>45</td>\n",
       "      <td>1</td>\n",
       "      <td>0</td>\n",
       "      <td>1</td>\n",
       "      <td>0</td>\n",
       "      <td>2</td>\n",
       "      <td>1</td>\n",
       "      <td>0</td>\n",
       "      <td>156</td>\n",
       "      <td>1</td>\n",
       "      <td>0</td>\n",
       "      <td>0</td>\n",
       "      <td>0</td>\n",
       "      <td>0</td>\n",
       "      <td>1</td>\n",
       "    </tr>\n",
       "    <tr>\n",
       "      <th>9998</th>\n",
       "      <td>https://objectstorage.ap-tokyo-1.oraclecloud.c...</td>\n",
       "      <td>objectstorage.ap-tokyo-1.oraclecloud.com</td>\n",
       "      <td>0</td>\n",
       "      <td>0</td>\n",
       "      <td>96</td>\n",
       "      <td>6</td>\n",
       "      <td>0</td>\n",
       "      <td>1</td>\n",
       "      <td>0</td>\n",
       "      <td>2</td>\n",
       "      <td>1</td>\n",
       "      <td>0</td>\n",
       "      <td>5082</td>\n",
       "      <td>1</td>\n",
       "      <td>0</td>\n",
       "      <td>0</td>\n",
       "      <td>1</td>\n",
       "      <td>0</td>\n",
       "      <td>1</td>\n",
       "    </tr>\n",
       "    <tr>\n",
       "      <th>9999</th>\n",
       "      <td>https://acceuil-client-bmo.com/login.php</td>\n",
       "      <td>acceuil-client-bmo.com</td>\n",
       "      <td>0</td>\n",
       "      <td>0</td>\n",
       "      <td>40</td>\n",
       "      <td>1</td>\n",
       "      <td>0</td>\n",
       "      <td>1</td>\n",
       "      <td>0</td>\n",
       "      <td>2</td>\n",
       "      <td>1</td>\n",
       "      <td>0</td>\n",
       "      <td>14</td>\n",
       "      <td>1</td>\n",
       "      <td>2</td>\n",
       "      <td>2</td>\n",
       "      <td>2</td>\n",
       "      <td>-1</td>\n",
       "      <td>1</td>\n",
       "    </tr>\n",
       "  </tbody>\n",
       "</table>\n",
       "<p>10000 rows × 19 columns</p>\n",
       "</div>"
      ],
      "text/plain": [
       "                                                    URL  \\\n",
       "0     http://superuser.com/questions/694540/windows-...   \n",
       "1     http://bdnews24.com/bangladesh/2015/05/14/bdne...   \n",
       "2     https://codepen.io/anon/embed/QbNqgv?height=30...   \n",
       "3     http://kakaku.com/pc/note-pc-battery/ranking_0...   \n",
       "4     http://kienthuc.net.vn/hoi-dap-ve-tuyen-sinh/c...   \n",
       "...                                                 ...   \n",
       "9995                  https://my-metamessk.com/imports/   \n",
       "9996  https://dwvjqx.webwave.dev/?inf_contact_key=c3...   \n",
       "9997      https://verify-i-cloud.mipaginaweb.us/expire/   \n",
       "9998  https://objectstorage.ap-tokyo-1.oraclecloud.c...   \n",
       "9999           https://acceuil-client-bmo.com/login.php   \n",
       "\n",
       "                                        Domain  Have_IP  Have_At  URL_Length  \\\n",
       "0                                superuser.com        0        0          97   \n",
       "1                                 bdnews24.com        0        0         113   \n",
       "2                                   codepen.io        0        0         112   \n",
       "3                                   kakaku.com        0        0          84   \n",
       "4                              kienthuc.net.vn        0        0         111   \n",
       "...                                        ...      ...      ...         ...   \n",
       "9995                          my-metamessk.com        0        0          33   \n",
       "9996                        dwvjqx.webwave.dev        0        0          76   \n",
       "9997             verify-i-cloud.mipaginaweb.us        0        0          45   \n",
       "9998  objectstorage.ap-tokyo-1.oraclecloud.com        0        0          96   \n",
       "9999                    acceuil-client-bmo.com        0        0          40   \n",
       "\n",
       "      URL_Depth  Non-standard_Doubleslash  https_Domain  Shortened_URL  \\\n",
       "0             3                         0             0              0   \n",
       "1             5                         0             0              0   \n",
       "2             3                         0             1              0   \n",
       "3             6                         0             0              0   \n",
       "4             2                         0             0              0   \n",
       "...         ...                       ...           ...            ...   \n",
       "9995          1                         0             1              0   \n",
       "9996          0                         0             1              0   \n",
       "9997          1                         0             1              0   \n",
       "9998          6                         0             1              0   \n",
       "9999          1                         0             1              0   \n",
       "\n",
       "      Hyphen_Count  DNS_Record  Comb_5y_interest  Domain_Age  Domain_Active  \\\n",
       "0                0           1              2041        9940              1   \n",
       "1                0           1             11617        6717              1   \n",
       "2                0           1              9155        3979              1   \n",
       "3                0           1              8778        8960              1   \n",
       "4                0           1              3218           0              2   \n",
       "...            ...         ...               ...         ...            ...   \n",
       "9995             1           1                 0          14              1   \n",
       "9996             0           1                 0        1427              1   \n",
       "9997             2           1                 0         156              1   \n",
       "9998             2           1                 0        5082              1   \n",
       "9999             2           1                 0          14              1   \n",
       "\n",
       "      iFrame  Mouse_Over  Right_Click  Web_Forwards  Label  \n",
       "0          0           0            0             1      0  \n",
       "1          1           0            0             1      0  \n",
       "2          0           0            0             0      0  \n",
       "3          1           0            0             2      0  \n",
       "4          1           0            1             1      0  \n",
       "...      ...         ...          ...           ...    ...  \n",
       "9995       2           2            2            -1      1  \n",
       "9996       0           0            0             0      1  \n",
       "9997       0           0            0             0      1  \n",
       "9998       0           0            1             0      1  \n",
       "9999       2           2            2            -1      1  \n",
       "\n",
       "[10000 rows x 19 columns]"
      ]
     },
     "execution_count": 3,
     "metadata": {},
     "output_type": "execute_result"
    }
   ],
   "source": [
    "df"
   ]
  },
  {
   "cell_type": "code",
   "execution_count": 4,
   "id": "eac02f4c",
   "metadata": {},
   "outputs": [],
   "source": [
    "tokens = text.Tokenizer()\n",
    "tokens1 = text.Tokenizer()\n",
    "tokens.fit_on_texts(df['URL'])\n",
    "tokens1.fit_on_texts(df['Domain'])\n",
    "\n",
    "df['URL'] = tokens.texts_to_matrix(df['URL'])\n",
    "df['Domain'] = tokens.texts_to_matrix(df['Domain'])\n",
    "df1['URL'] = tokens.texts_to_matrix(df1['URL'])\n",
    "df1['Domain'] = tokens.texts_to_matrix(df1['Domain'])"
   ]
  },
  {
   "cell_type": "code",
   "execution_count": 5,
   "id": "9fb0e82d",
   "metadata": {},
   "outputs": [],
   "source": [
    "x_train = df.iloc[:,0:18]\n",
    "y_train = df.iloc[:,18]\n",
    "x_test = df1.iloc[:,0:18]\n",
    "y_test = df1.iloc[:,18]"
   ]
  },
  {
   "cell_type": "code",
   "execution_count": 6,
   "id": "54908979",
   "metadata": {},
   "outputs": [],
   "source": [
    "clf = RandomForestClassifier(n_estimators = 100)  \n",
    "clf.fit(x_train, y_train)\n",
    "y_pred = clf.predict(x_test)"
   ]
  },
  {
   "cell_type": "code",
   "execution_count": 7,
   "id": "02823f98",
   "metadata": {},
   "outputs": [
    {
     "name": "stdout",
     "output_type": "stream",
     "text": [
      "514 ms ± 74 ms per loop (mean ± std. dev. of 7 runs, 1 loop each)\n"
     ]
    }
   ],
   "source": [
    "%%timeit\n",
    "clf.fit(x_train, y_train)"
   ]
  },
  {
   "cell_type": "code",
   "execution_count": 8,
   "id": "3120b82e",
   "metadata": {},
   "outputs": [
    {
     "name": "stdout",
     "output_type": "stream",
     "text": [
      "40.6 ms ± 4.93 ms per loop (mean ± std. dev. of 7 runs, 10 loops each)\n"
     ]
    }
   ],
   "source": [
    "%%timeit\n",
    "y_pred = clf.predict(x_test)"
   ]
  },
  {
   "cell_type": "code",
   "execution_count": 9,
   "id": "4bfe7664",
   "metadata": {},
   "outputs": [
    {
     "data": {
      "text/plain": [
       "0.997"
      ]
     },
     "execution_count": 9,
     "metadata": {},
     "output_type": "execute_result"
    }
   ],
   "source": [
    "metrics.accuracy_score(y_test, y_pred)"
   ]
  },
  {
   "cell_type": "code",
   "execution_count": 10,
   "id": "f0fc4c54",
   "metadata": {},
   "outputs": [],
   "source": [
    "precision = precision_score(y_test, y_pred, average='macro')\n",
    "recall = recall_score(y_test, y_pred, average='macro')"
   ]
  },
  {
   "cell_type": "code",
   "execution_count": 11,
   "id": "58c7b8b3",
   "metadata": {},
   "outputs": [],
   "source": [
    "matrix = metrics.confusion_matrix(y_test, y_pred)"
   ]
  },
  {
   "cell_type": "code",
   "execution_count": 12,
   "id": "c0cc5bc2",
   "metadata": {
    "scrolled": true
   },
   "outputs": [
    {
     "data": {
      "text/plain": [
       "<AxesSubplot: >"
      ]
     },
     "execution_count": 12,
     "metadata": {},
     "output_type": "execute_result"
    },
    {
     "data": {
      "image/png": "[encoded data removed]",
      "text/plain": [
       "<Figure size 640x480 with 2 Axes>"
      ]
     },
     "metadata": {},
     "output_type": "display_data"
    }
   ],
   "source": [
    "sns.heatmap(matrix, annot=True)"
   ]
  },
  {
   "cell_type": "code",
   "execution_count": 13,
   "id": "11872cac",
   "metadata": {},
   "outputs": [
    {
     "data": {
      "text/plain": [
       "(0.997001988007952, 0.997)"
      ]
     },
     "execution_count": 13,
     "metadata": {},
     "output_type": "execute_result"
    }
   ],
   "source": [
    "precision, recall"
   ]
  }
 ],
 "metadata": {
  "kernelspec": {
   "display_name": "phish_det",
   "language": "python",
   "name": "phish_det"
  },
  "language_info": {
   "codemirror_mode": {
    "name": "ipython",
    "version": 3
   },
   "file_extension": ".py",
   "mimetype": "text/x-python",
   "name": "python",
   "nbconvert_exporter": "python",
   "pygments_lexer": "ipython3",
   "version": "3.9.5"
  }
 },
 "nbformat": 4,
 "nbformat_minor": 5
}
