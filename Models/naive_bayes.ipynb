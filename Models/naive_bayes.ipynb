{
 "cells": [
  {
   "cell_type": "code",
   "execution_count": null,
   "id": "11646e93",
   "metadata": {},
   "outputs": [],
   "source": [
    "import numpy as np\n",
    "import pandas as pd\n",
    "from keras.preprocessing import text\n",
    "from sklearn.naive_bayes import BernoulliNB\n",
    "from sklearn import metrics  \n",
    "import matplotlib.pyplot as plt\n",
    "%matplotlib inline"
   ]
  },
  {
   "cell_type": "code",
   "execution_count": null,
   "id": "6917f78f",
   "metadata": {},
   "outputs": [],
   "source": [
    "df = pd.read_csv(r'feature_extracted_data/train.csv')\n",
    "df1 = pd.read_csv(r'feature_extracted_data/test.csv')"
   ]
  },
  {
   "cell_type": "code",
   "execution_count": null,
   "id": "ca179fc9",
   "metadata": {},
   "outputs": [],
   "source": [
    "df"
   ]
  },
  {
   "cell_type": "code",
   "execution_count": null,
   "id": "e1f7f9a0",
   "metadata": {},
   "outputs": [],
   "source": [
    "tokens = text.Tokenizer()\n",
    "tokens1 = text.Tokenizer()\n",
    "tokens.fit_on_texts(df['URL'])\n",
    "tokens1.fit_on_texts(df['Domain'])\n",
    "\n",
    "df['URL'] = tokens.texts_to_matrix(df['URL'])\n",
    "df['Domain'] = tokens.texts_to_matrix(df['Domain'])\n",
    "df1['URL'] = tokens.texts_to_matrix(df1['URL'])\n",
    "df1['Domain'] = tokens.texts_to_matrix(df1['Domain'])"
   ]
  },
  {
   "cell_type": "code",
   "execution_count": null,
   "id": "a71c5df1",
   "metadata": {},
   "outputs": [],
   "source": [
    "x_train = df.iloc[:,0:18]\n",
    "y_train = df.iloc[:,18]\n",
    "x_test = df1.iloc[:,0:18]\n",
    "y_test = df1.iloc[:,18]"
   ]
  },
  {
   "cell_type": "code",
   "execution_count": null,
   "id": "8b5f195f",
   "metadata": {},
   "outputs": [],
   "source": [
    "gnb = BernoulliNB(alpha=0.0, binarize=80, fit_prior=bool, class_prior=None)\n",
    "gnb.fit(x_train, y_train)"
   ]
  },
  {
   "cell_type": "code",
   "execution_count": null,
   "id": "c76c24a3",
   "metadata": {},
   "outputs": [],
   "source": [
    "y_pred = gnb.predict(x_test)"
   ]
  },
  {
   "cell_type": "code",
   "execution_count": null,
   "id": "2df76c0d",
   "metadata": {},
   "outputs": [],
   "source": [
    "metrics.accuracy_score(y_test, y_pred)*100"
   ]
  }
 ],
 "metadata": {
  "kernelspec": {
   "display_name": "Python 3 (ipykernel)",
   "language": "python",
   "name": "python3"
  },
  "language_info": {
   "codemirror_mode": {
    "name": "ipython",
    "version": 3
   },
   "file_extension": ".py",
   "mimetype": "text/x-python",
   "name": "python",
   "nbconvert_exporter": "python",
   "pygments_lexer": "ipython3",
   "version": "3.10.6"
  }
 },
 "nbformat": 4,
 "nbformat_minor": 5
}
